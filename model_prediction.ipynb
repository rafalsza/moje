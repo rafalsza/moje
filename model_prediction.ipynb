{
  "nbformat": 4,
  "nbformat_minor": 0,
  "metadata": {
    "colab": {
      "name": "model-prediction.ipynb",
      "provenance": [],
      "collapsed_sections": [],
      "authorship_tag": "ABX9TyMG78Uptz6DiaKrtY+3iryT",
      "include_colab_link": true
    },
    "kernelspec": {
      "name": "python3",
      "display_name": "Python 3"
    },
    "language_info": {
      "name": "python"
    }
  },
  "cells": [
    {
      "cell_type": "markdown",
      "metadata": {
        "id": "view-in-github",
        "colab_type": "text"
      },
      "source": [
        "<a href=\"https://colab.research.google.com/github/rafalsza/moje/blob/master/model_prediction.ipynb\" target=\"_parent\"><img src=\"https://colab.research.google.com/assets/colab-badge.svg\" alt=\"Open In Colab\"/></a>"
      ]
    },
    {
      "cell_type": "markdown",
      "source": [
        "MODEL **PREDICTION**"
      ],
      "metadata": {
        "id": "4CtCf0Nvz345"
      }
    },
    {
      "cell_type": "code",
      "metadata": {
        "id": "-hlMxWYzVOPH"
      },
      "source": [
        "!pip install yfinance\n",
        "!pip install prophet"
      ],
      "execution_count": null,
      "outputs": []
    },
    {
      "cell_type": "code",
      "metadata": {
        "id": "exl0BE79U9R7"
      },
      "source": [
        "import matplotlib.pyplot as plt\n",
        "import yfinance as yf\n",
        "from fbprophet import Prophet\n",
        "import pandas as pd\n",
        "from fbprophet import Prophet\n",
        "from prophet.plot import plot_plotly, plot_components_plotly"
      ],
      "execution_count": 6,
      "outputs": []
    },
    {
      "cell_type": "code",
      "metadata": {
        "id": "8yv8sz7eVc23"
      },
      "source": [
        "symbol = 'pln=x'\n",
        "df = yf.download(symbol, start='2011-01-01')\n",
        "print(df.head())\n",
        "df = df.reset_index()\n",
        "df[['ds', 'y']] = df[['Date', 'Adj Close']]"
      ],
      "execution_count": null,
      "outputs": []
    },
    {
      "cell_type": "code",
      "source": [
        "model = Prophet(daily_seasonality=True)\n",
        "model.fit(df)\n",
        "future = model.make_future_dataframe(365)\n",
        "forecast = model.predict(future)\n",
        "model.plot(forecast,figsize=(12,8))\n",
        "plt.title(f'{symbol.upper()} prediction')\n",
        "plt.style.use('seaborn-dark')"
      ],
      "metadata": {
        "id": "92NSIHEfrRaQ"
      },
      "execution_count": null,
      "outputs": []
    },
    {
      "cell_type": "code",
      "source": [
        "fig = plot_plotly(model, forecast, xlabel='date', ylabel='price')\n",
        "fig.update_layout(template='ggplot2',title_text=f'{symbol.upper()} prediction')\n",
        "fig.show()"
      ],
      "metadata": {
        "id": "GuenqGhDq49a"
      },
      "execution_count": null,
      "outputs": []
    },
    {
      "cell_type": "code",
      "source": [
        "from prophet.plot import add_changepoints_to_plot\n",
        "fig = model.plot(forecast)\n",
        "a = add_changepoints_to_plot(fig.gca(), model, forecast)"
      ],
      "metadata": {
        "id": "DY3lHJPHC1j2"
      },
      "execution_count": null,
      "outputs": []
    }
  ]
}